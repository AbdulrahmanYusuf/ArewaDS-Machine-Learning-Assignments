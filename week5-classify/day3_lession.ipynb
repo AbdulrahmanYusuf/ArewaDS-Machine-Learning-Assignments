{
 "cells": [
  {
   "cell_type": "code",
   "execution_count": 20,
   "metadata": {},
   "outputs": [],
   "source": [
    "from sklearn.neighbors import KNeighborsClassifier\n",
    "from sklearn.linear_model import LogisticRegression\n",
    "from sklearn.svm import SVC\n",
    "from sklearn.ensemble import RandomForestClassifier, AdaBoostClassifier, ExtraTreesClassifier\n",
    "from sklearn.tree import DecisionTreeClassifier\n",
    "from sklearn.model_selection import train_test_split, cross_val_score\n",
    "from sklearn.metrics import accuracy_score,precision_score,confusion_matrix,classification_report, precision_recall_curve\n",
    "import numpy as np\n",
    "import pandas as pd\n",
    "\n",
    "cuisines_df = pd.read_csv('../../ArewaDS-Machine-Learning-Assignments/week5-classify/cleaned_cuisines.csv')"
   ]
  },
  {
   "attachments": {},
   "cell_type": "markdown",
   "metadata": {},
   "source": [
    "Subsetting dependant and indipendent variables"
   ]
  },
  {
   "cell_type": "code",
   "execution_count": 2,
   "metadata": {},
   "outputs": [],
   "source": [
    "cuisines_label_df = cuisines_df['cuisine']\n",
    "cuisines_feature_df = cuisines_df.drop(['Unnamed: 0', 'cuisine'], axis=1)"
   ]
  },
  {
   "cell_type": "code",
   "execution_count": 7,
   "metadata": {},
   "outputs": [],
   "source": [
    "X_train, X_test, y_train, y_test = train_test_split(cuisines_feature_df, cuisines_label_df, test_size=0.3)\n",
    "\n"
   ]
  },
  {
   "attachments": {},
   "cell_type": "markdown",
   "metadata": {},
   "source": [
    "Creating aray for testing different classifiers"
   ]
  },
  {
   "cell_type": "code",
   "execution_count": 23,
   "metadata": {},
   "outputs": [],
   "source": [
    "C = 10\n",
    "# array for testing different classifiers.\n",
    "classifiers = {\n",
    "    'Linear SVC': SVC(kernel='linear', C=C, probability=True,random_state=0),\n",
    "    'KNN classifier': KNeighborsClassifier(C),\n",
    "    'SVC': SVC(),\n",
    "    'RFST': RandomForestClassifier(n_estimators=100),\n",
    "    'ADA': AdaBoostClassifier(n_estimators=100),\n",
    "    'DTC': DecisionTreeClassifier(max_depth=None, min_samples_split=2, random_state=0),\n",
    "    'ETC':  ExtraTreesClassifier(n_estimators=10, max_depth=None, min_samples_split=2, random_state=0)\n",
    "}"
   ]
  },
  {
   "attachments": {},
   "cell_type": "markdown",
   "metadata": {},
   "source": [
    "Training  model using different classifiers from the array and print out a report:"
   ]
  },
  {
   "cell_type": "code",
   "execution_count": 24,
   "metadata": {},
   "outputs": [
    {
     "name": "stdout",
     "output_type": "stream",
     "text": [
      "Accuracy (train) for Linear SVC: 77.7% \n",
      "              precision    recall  f1-score   support\n",
      "\n",
      "     chinese       0.68      0.68      0.68       238\n",
      "      indian       0.87      0.88      0.88       229\n",
      "    japanese       0.76      0.71      0.74       254\n",
      "      korean       0.82      0.79      0.81       229\n",
      "        thai       0.75      0.82      0.78       249\n",
      "\n",
      "    accuracy                           0.78      1199\n",
      "   macro avg       0.78      0.78      0.78      1199\n",
      "weighted avg       0.78      0.78      0.78      1199\n",
      "\n",
      "Accuracy (train) for KNN classifier: 72.2% \n",
      "              precision    recall  f1-score   support\n",
      "\n",
      "     chinese       0.62      0.68      0.65       238\n",
      "      indian       0.82      0.80      0.81       229\n",
      "    japanese       0.67      0.80      0.73       254\n",
      "      korean       0.93      0.55      0.69       229\n",
      "        thai       0.70      0.78      0.73       249\n",
      "\n",
      "    accuracy                           0.72      1199\n",
      "   macro avg       0.75      0.72      0.72      1199\n",
      "weighted avg       0.74      0.72      0.72      1199\n",
      "\n",
      "Accuracy (train) for SVC: 80.8% \n",
      "              precision    recall  f1-score   support\n",
      "\n",
      "     chinese       0.76      0.71      0.74       238\n",
      "      indian       0.87      0.90      0.89       229\n",
      "    japanese       0.80      0.76      0.78       254\n",
      "      korean       0.87      0.79      0.83       229\n",
      "        thai       0.75      0.88      0.81       249\n",
      "\n",
      "    accuracy                           0.81      1199\n",
      "   macro avg       0.81      0.81      0.81      1199\n",
      "weighted avg       0.81      0.81      0.81      1199\n",
      "\n",
      "Accuracy (train) for RFST: 82.4% \n",
      "              precision    recall  f1-score   support\n",
      "\n",
      "     chinese       0.78      0.77      0.77       238\n",
      "      indian       0.88      0.88      0.88       229\n",
      "    japanese       0.84      0.80      0.82       254\n",
      "      korean       0.86      0.81      0.83       229\n",
      "        thai       0.78      0.86      0.82       249\n",
      "\n",
      "    accuracy                           0.82      1199\n",
      "   macro avg       0.83      0.82      0.82      1199\n",
      "weighted avg       0.83      0.82      0.82      1199\n",
      "\n",
      "Accuracy (train) for ADA: 68.8% \n",
      "              precision    recall  f1-score   support\n",
      "\n",
      "     chinese       0.57      0.42      0.49       238\n",
      "      indian       0.82      0.84      0.83       229\n",
      "    japanese       0.64      0.62      0.63       254\n",
      "      korean       0.69      0.81      0.74       229\n",
      "        thai       0.69      0.76      0.72       249\n",
      "\n",
      "    accuracy                           0.69      1199\n",
      "   macro avg       0.68      0.69      0.68      1199\n",
      "weighted avg       0.68      0.69      0.68      1199\n",
      "\n",
      "Accuracy (train) for DTC: 74.6% \n",
      "              precision    recall  f1-score   support\n",
      "\n",
      "     chinese       0.71      0.70      0.70       238\n",
      "      indian       0.83      0.81      0.82       229\n",
      "    japanese       0.72      0.76      0.74       254\n",
      "      korean       0.77      0.70      0.73       229\n",
      "        thai       0.72      0.76      0.74       249\n",
      "\n",
      "    accuracy                           0.75      1199\n",
      "   macro avg       0.75      0.75      0.75      1199\n",
      "weighted avg       0.75      0.75      0.75      1199\n",
      "\n",
      "Accuracy (train) for ETC: 80.2% \n",
      "              precision    recall  f1-score   support\n",
      "\n",
      "     chinese       0.76      0.75      0.75       238\n",
      "      indian       0.86      0.88      0.87       229\n",
      "    japanese       0.83      0.78      0.80       254\n",
      "      korean       0.80      0.77      0.79       229\n",
      "        thai       0.77      0.83      0.80       249\n",
      "\n",
      "    accuracy                           0.80      1199\n",
      "   macro avg       0.80      0.80      0.80      1199\n",
      "weighted avg       0.80      0.80      0.80      1199\n",
      "\n"
     ]
    }
   ],
   "source": [
    "n_classifiers = len(classifiers)\n",
    "\n",
    "for index, (name, classifier) in enumerate(classifiers.items()):\n",
    "    classifier.fit(X_train, np.ravel(y_train))\n",
    "\n",
    "    y_pred = classifier.predict(X_test)\n",
    "    accuracy = accuracy_score(y_test, y_pred)\n",
    "    print(\"Accuracy (train) for %s: %0.1f%% \" % (name, accuracy * 100))\n",
    "    print(classification_report(y_test, y_pred))"
   ]
  },
  {
   "cell_type": "code",
   "execution_count": null,
   "metadata": {},
   "outputs": [],
   "source": []
  }
 ],
 "metadata": {
  "kernelspec": {
   "display_name": "dscience",
   "language": "python",
   "name": "python3"
  },
  "language_info": {
   "codemirror_mode": {
    "name": "ipython",
    "version": 3
   },
   "file_extension": ".py",
   "mimetype": "text/x-python",
   "name": "python",
   "nbconvert_exporter": "python",
   "pygments_lexer": "ipython3",
   "version": "3.10.11"
  },
  "orig_nbformat": 4
 },
 "nbformat": 4,
 "nbformat_minor": 2
}
